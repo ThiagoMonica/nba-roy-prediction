{
 "cells": [
  {
   "cell_type": "markdown",
   "metadata": {},
   "source": [
    "## Lib Imports"
   ]
  },
  {
   "cell_type": "code",
   "execution_count": 1,
   "metadata": {},
   "outputs": [],
   "source": [
    "import pandas as pd\n",
    "from nba_api.stats.endpoints import leaguedashplayerstats"
   ]
  },
  {
   "cell_type": "markdown",
   "metadata": {},
   "source": [
    "## Data Prep"
   ]
  },
  {
   "cell_type": "code",
   "execution_count": 2,
   "metadata": {},
   "outputs": [],
   "source": [
    "def get_rookie_stats_season(season, per_mode):\n",
    "    try:\n",
    "        player_stats = leaguedashplayerstats.LeagueDashPlayerStats(\n",
    "            season = season,\n",
    "            season_type_all_star = 'Regular Season',\n",
    "            player_experience_nullable = 'Rookie',\n",
    "            per_mode_detailed = per_mode,\n",
    "        ).get_data_frames()[0]\n",
    "\n",
    "        player_stats['SEASON'] = season\n",
    "    except Exception as e:\n",
    "        print('Error: Could not get rookie stats for season', season)\n",
    "        print(e)\n",
    "        player_stats = pd.DataFrame()\n",
    "\n",
    "    return player_stats"
   ]
  },
  {
   "cell_type": "code",
   "execution_count": 3,
   "metadata": {},
   "outputs": [],
   "source": [
    "def format_season(season):\n",
    "    return f'{season}-{str(season + 1)[-2:]}'"
   ]
  },
  {
   "cell_type": "code",
   "execution_count": 4,
   "metadata": {},
   "outputs": [
    {
     "name": "stdout",
     "output_type": "stream",
     "text": [
      "No rookie stats found for 1950-51 season\n",
      "No rookie stats found for 1951-52 season\n",
      "No rookie stats found for 1952-53 season\n",
      "No rookie stats found for 1953-54 season\n",
      "No rookie stats found for 1954-55 season\n",
      "No rookie stats found for 1955-56 season\n",
      "No rookie stats found for 1956-57 season\n",
      "No rookie stats found for 1957-58 season\n",
      "No rookie stats found for 1958-59 season\n",
      "No rookie stats found for 1959-60 season\n",
      "No rookie stats found for 1960-61 season\n",
      "No rookie stats found for 1961-62 season\n",
      "No rookie stats found for 1962-63 season\n",
      "No rookie stats found for 1963-64 season\n",
      "No rookie stats found for 1964-65 season\n",
      "No rookie stats found for 1965-66 season\n",
      "No rookie stats found for 1966-67 season\n",
      "No rookie stats found for 1967-68 season\n",
      "No rookie stats found for 1968-69 season\n",
      "No rookie stats found for 1969-70 season\n",
      "No rookie stats found for 1970-71 season\n",
      "No rookie stats found for 1971-72 season\n",
      "No rookie stats found for 1972-73 season\n",
      "No rookie stats found for 1973-74 season\n",
      "No rookie stats found for 1974-75 season\n",
      "No rookie stats found for 1975-76 season\n",
      "No rookie stats found for 1976-77 season\n",
      "No rookie stats found for 1977-78 season\n",
      "No rookie stats found for 1978-79 season\n",
      "No rookie stats found for 1979-80 season\n",
      "No rookie stats found for 1980-81 season\n",
      "No rookie stats found for 1981-82 season\n",
      "No rookie stats found for 1982-83 season\n",
      "No rookie stats found for 1983-84 season\n",
      "No rookie stats found for 1984-85 season\n",
      "No rookie stats found for 1985-86 season\n",
      "No rookie stats found for 1986-87 season\n",
      "No rookie stats found for 1987-88 season\n",
      "No rookie stats found for 1988-89 season\n",
      "No rookie stats found for 1989-90 season\n",
      "No rookie stats found for 1990-91 season\n",
      "No rookie stats found for 1991-92 season\n",
      "No rookie stats found for 1992-93 season\n",
      "Error: Could not get rookie stats for season 1993-94\n",
      "HTTPSConnectionPool(host='stats.nba.com', port=443): Read timed out. (read timeout=30)\n",
      "No rookie stats found for 1993-94 season\n",
      "No rookie stats found for 1994-95 season\n",
      "No rookie stats found for 1995-96 season\n",
      "Found 63 rookie stats for 1996-97 season\n",
      "Found 64 rookie stats for 1997-98 season\n",
      "Found 67 rookie stats for 1998-99 season\n",
      "Found 63 rookie stats for 1999-00 season\n",
      "Found 68 rookie stats for 2000-01 season\n",
      "Found 69 rookie stats for 2001-02 season\n",
      "Found 64 rookie stats for 2002-03 season\n",
      "Found 67 rookie stats for 2003-04 season\n",
      "Found 70 rookie stats for 2004-05 season\n",
      "Found 85 rookie stats for 2005-06 season\n",
      "Found 80 rookie stats for 2006-07 season\n",
      "Found 64 rookie stats for 2007-08 season\n",
      "Found 62 rookie stats for 2008-09 season\n",
      "Found 57 rookie stats for 2009-10 season\n",
      "Found 67 rookie stats for 2010-11 season\n",
      "Found 81 rookie stats for 2011-12 season\n",
      "Found 78 rookie stats for 2012-13 season\n",
      "Found 76 rookie stats for 2013-14 season\n",
      "Found 81 rookie stats for 2014-15 season\n",
      "Found 73 rookie stats for 2015-16 season\n",
      "Found 88 rookie stats for 2016-17 season\n",
      "Found 116 rookie stats for 2017-18 season\n",
      "Found 105 rookie stats for 2018-19 season\n",
      "Found 118 rookie stats for 2019-20 season\n",
      "Found 94 rookie stats for 2020-21 season\n",
      "Found 126 rookie stats for 2021-22 season\n",
      "Found 85 rookie stats for 2022-23 season\n",
      "Found 101 rookie stats for 2023-24 season\n",
      "No rookie stats found for 2024-25 season\n"
     ]
    }
   ],
   "source": [
    "df_rookie_stats = pd.DataFrame()\n",
    "\n",
    "for season in range(1950, 2025):\n",
    "    season_str = format_season(season)\n",
    "    rookie_stats = get_rookie_stats_season(season_str, 'PerGame')\n",
    "\n",
    "    if rookie_stats.empty:\n",
    "        print(f'No rookie stats found for {season_str} season')\n",
    "        continue\n",
    "    \n",
    "    print(f'Found {rookie_stats.shape[0]} rookie stats for {season_str} season')\n",
    "    df_rookie_stats = pd.concat([df_rookie_stats, rookie_stats])"
   ]
  },
  {
   "cell_type": "code",
   "execution_count": 5,
   "metadata": {},
   "outputs": [
    {
     "data": {
      "text/plain": [
       "SEASON\n",
       "1996-97     63\n",
       "1997-98     64\n",
       "1998-99     67\n",
       "1999-00     63\n",
       "2000-01     68\n",
       "2001-02     69\n",
       "2002-03     64\n",
       "2003-04     67\n",
       "2004-05     70\n",
       "2005-06     85\n",
       "2006-07     80\n",
       "2007-08     64\n",
       "2008-09     62\n",
       "2009-10     57\n",
       "2010-11     67\n",
       "2011-12     81\n",
       "2012-13     78\n",
       "2013-14     76\n",
       "2014-15     81\n",
       "2015-16     73\n",
       "2016-17     88\n",
       "2017-18    116\n",
       "2018-19    105\n",
       "2019-20    118\n",
       "2020-21     94\n",
       "2021-22    126\n",
       "2022-23     85\n",
       "2023-24    101\n",
       "dtype: int64"
      ]
     },
     "execution_count": 5,
     "metadata": {},
     "output_type": "execute_result"
    }
   ],
   "source": [
    "df_rookie_stats.groupby('SEASON').size()"
   ]
  },
  {
   "cell_type": "code",
   "execution_count": 6,
   "metadata": {},
   "outputs": [
    {
     "data": {
      "text/plain": [
       "Index(['PLAYER_ID', 'PLAYER_NAME', 'NICKNAME', 'TEAM_ID', 'TEAM_ABBREVIATION',\n",
       "       'AGE', 'GP', 'W', 'L', 'W_PCT', 'MIN', 'FGM', 'FGA', 'FG_PCT', 'FG3M',\n",
       "       'FG3A', 'FG3_PCT', 'FTM', 'FTA', 'FT_PCT', 'OREB', 'DREB', 'REB', 'AST',\n",
       "       'TOV', 'STL', 'BLK', 'BLKA', 'PF', 'PFD', 'PTS', 'PLUS_MINUS',\n",
       "       'NBA_FANTASY_PTS', 'DD2', 'TD3', 'WNBA_FANTASY_PTS', 'GP_RANK',\n",
       "       'W_RANK', 'L_RANK', 'W_PCT_RANK', 'MIN_RANK', 'FGM_RANK', 'FGA_RANK',\n",
       "       'FG_PCT_RANK', 'FG3M_RANK', 'FG3A_RANK', 'FG3_PCT_RANK', 'FTM_RANK',\n",
       "       'FTA_RANK', 'FT_PCT_RANK', 'OREB_RANK', 'DREB_RANK', 'REB_RANK',\n",
       "       'AST_RANK', 'TOV_RANK', 'STL_RANK', 'BLK_RANK', 'BLKA_RANK', 'PF_RANK',\n",
       "       'PFD_RANK', 'PTS_RANK', 'PLUS_MINUS_RANK', 'NBA_FANTASY_PTS_RANK',\n",
       "       'DD2_RANK', 'TD3_RANK', 'WNBA_FANTASY_PTS_RANK', 'SEASON'],\n",
       "      dtype='object')"
      ]
     },
     "execution_count": 6,
     "metadata": {},
     "output_type": "execute_result"
    }
   ],
   "source": [
    "df_rookie_stats.columns"
   ]
  },
  {
   "cell_type": "code",
   "execution_count": 7,
   "metadata": {},
   "outputs": [],
   "source": [
    "df_rookie_stats.drop(columns=['NICKNAME', 'TEAM_ID', 'TEAM_ABBREVIATION', 'WNBA_FANTASY_PTS_RANK', 'WNBA_FANTASY_PTS'], inplace=True)"
   ]
  },
  {
   "cell_type": "code",
   "execution_count": null,
   "metadata": {},
   "outputs": [],
   "source": []
  }
 ],
 "metadata": {
  "kernelspec": {
   "display_name": "Python 3",
   "language": "python",
   "name": "python3"
  },
  "language_info": {
   "codemirror_mode": {
    "name": "ipython",
    "version": 3
   },
   "file_extension": ".py",
   "mimetype": "text/x-python",
   "name": "python",
   "nbconvert_exporter": "python",
   "pygments_lexer": "ipython3",
   "version": "3.12.2"
  }
 },
 "nbformat": 4,
 "nbformat_minor": 2
}
